# Минипроект

### Импорт необходимых библиотек:

import pandas as pd

### Чтение из файла:

bookings = pd.read_csv('e:bookings.csv', sep = ';')

bookings_head = bookings.head(7) #№1

bookings_head

### Размер таблицы (датафрейма):

bookings.shape

### Типы данных:

bookings.dtypes

### №4. Переименование названий столбцов

#### 1-й способ. В ручную. Не эффективный.

#bookings = bookings.rename(columns={'Hotel' : 'hotel', 'Is Canceled' : 'is_canceled', 'Lead Time' : 'lead_time', 'arrival full date' : 'arrival_full_date', 'Arrival Date Year' : 'arrival_date_year', 'Arrival Date Month' : 'arrival_date_month', 'Arrival Date Week Number' : 'arrival_date_week_number', 'Arrival Date Day of Month' : 'arrival_date_day_of_month', 'Stays in Weekend nights' : 'stays_in_weekend_nights', 'Stays in week nights' : 'stays_in_week_nights', 'stays total nights' : 'stays_total_nights', 'Adults' : 'adults', 'Children' : 'children', 'Babies' : 'babies', 'Meal' : 'meal', 'Country' : 'country', 'Reserved Room Type' : 'reserved_room_type', 'Assigned room type' : 'assigned_room_type', 'customer type' : 'customer_type', 'Reservation Status' : 'reservation_status', 'Reservation status_date' : 'reservation_status_date'})

#### 2-й способ. Уже получше.

#bookings.columns = bookings.columns.str.lower().str.replace(' ', '_')

#### 3-й способ. С помощью циклов. Автоматическое заполнение.

bookings.columns # все столбцы

rename_cols = {}
for col in bookings.columns:
    rename_cols[col] = col.replace(' ', '_').lower()

rename_cols # Словарь из старых и новых названий столбцов.

bookings = bookings.rename(columns=rename_cols)

bookings

bookings.dtypes

bookings.columns

### №5. Пользователи из каких стран совершили наибольшее число успешных бронирований? Бронирование считается успешным, если в дальнейшем оно не было отменено (переменная is_canceled). В качестве ответа выберите страны, входящие в топ-5.

##### Мое решение:

bookings\
    .query("is_canceled == 0")\
    .groupby('country', as_index=False)\
    .agg({'is_canceled' : 'count'})\
    .sort_values('is_canceled', ascending= False) \
    .head(5) 

##### Способ попроще:

bookings.query('is_canceled == 0') \
    .country \
    .value_counts()[:5] # с

### №6. На сколько ночей (stays_total_nights)  в среднем бронируют отели типа City Hotel? Resort Hotel? Запишите полученные значения в пропуски с точностью до 2 знаков после точки.

##### 1-й способ:

bookings.groupby('hotel', as_index=False).agg({'stays_total_nights' : 'mean'}).round(2) # №4 

##### 2-й способ:

bookings.groupby('hotel').stays_total_nights.mean().round(2) # 

### №7. Иногда тип номера, полученного клиентом (assigned_room_type), отличается от изначально забронированного (reserved_room_type). Такое может произойти, например, по причине овербукинга. Сколько подобных наблюдений встретилось в датасете?

bookings.assigned_room_type

bookings.reserved_room_type

bookings[['assigned_room_type', 'reserved_room_type']].query('assigned_room_type != reserved_room_type').shape[0]

### №8. Теперь проанализируйте даты запланированного прибытия (arrival_date_year). На какой месяц чаще всего оформляли бронь в 2016 году? Изменился ли самый популярный месяц в 2017 году?

bookings[['arrival_date_year', 'arrival_date_month']]

#### Тут сортировка по месяцам за все года:

bookings[['arrival_date_year', 'arrival_date_month']].value_counts()

#### Решение по годам:

bookings.query('arrival_date_year == 2016').arrival_date_month.value_counts()

bookings.query('arrival_date_year == 2017').arrival_date_month.value_counts()

#### Ещё одна попытка без сортировки(а как с сортировкой???):

bookings\
    .groupby(['arrival_date_year', 'arrival_date_month'])\
    .aggregate({'arrival_date_month' : 'count'})

#### Такое решение я хотела:

bookings\
    .groupby('arrival_date_year')\
    .arrival_date_month\
    .value_counts()

### №9. Сгруппируйте данные по годам, а затем проверьте, на какой месяц (arrival_date_month) бронирования отеля типа City Hotel отменялись чаще всего в 2015? 2016? 2017? 

#### Мой способ без сортировки:

bookings.query('hotel == "City Hotel"')\
    .groupby(['arrival_date_year', 'arrival_date_month'])\
    .aggregate({'is_canceled' : 'count'})

#### Правильное решение:

(
    bookings
        .query('hotel == "City Hotel" and is_canceled == 1')
        .groupby(['arrival_date_year'])
        .arrival_date_month
        .value_counts()
)

###  №10. Посмотрите на числовые характеристики трёх колонок: adults, children и babies. Какая из них имеет наибольшее среднее значение?

bookings[['adults', 'children', 'babies']].mean()

bookings[['adults', 'children', 'babies']].describe()

bookings[['adults', 'children', 'babies']].mean().idxmax()

### №11. Создайте колонку total_kids, объединив столбцы children и babies. Для отелей какого типа среднее значение переменной оказалось наибольшим? В качестве ответа укажите наибольшее среднее total_kids, округлив до 2 знаков после точки.

#### 1-й способ:

bookings = bookings.assign(total_kids = bookings.children + bookings.babies)

bookings.total_kids.mean()

bookings[['hotel', 'total_kids']].groupby(['hotel']).mean().round(2)

#### 2-й способ:

bookings['total_kids'] = bookings['children'] + bookings['babies'] # тут можно и через точку обращаться к сущ-им

(
    
bookings.groupby('hotel')
    .agg({'total_kids' : 'mean'})
    .round(2)
    
)

### №12. Не все бронирования завершились успешно (is_canceled), поэтому можно посчитать, сколько клиентов было потеряно в процессе. Иными словами, посчитать метрику под названием Churn Rate.
#### Churn rate (отток, коэффициент оттока) – это процент подписчиков (например, на push-уведомления от сайта), которые отписались от канала коммуникации, отказались от услуг сервиса в течение определенного периода времени. Иными словами, представляет собой отношение количества ушедших пользователей к общему количеству пользователей, выраженное в процентах.
#### В нашем случае Churn Rate - это процент клиентов, которые отменили бронирование. Давайте посмотрим, как эта метрика связана с наличием детей у клиентов!
### Создайте переменную has_kids, которая принимает значение True, если клиент при бронировании указал хотя бы одного ребенка (total_kids), в противном случае – False. Далее проверьте, среди какой группы пользователей показатель оттока выше. 

#### 1-я попытка:

#### Число людей с детьми:

count = 0
for i in bookings.total_kids:
    if i > 0:
        count += 1
print(count)    

#### Без детей:

count = 0
for i in bookings.total_kids:
    if i < 1:
        count += 1
print(count)    

110054 + 9332 # чет не сходится

#### Отмененные с детьми:

(
    bookings
    .query('is_canceled == 1 and total_kids > 0')
    .groupby('is_canceled')
    .agg({'is_canceled' : 'count'})
    
)    

#### Отменненые без детей:

(
    bookings
    .query('is_canceled == 1 and total_kids < 1')
    .groupby('is_canceled')
    .agg({'is_canceled' : 'count'})
    
)    

#### Всего отмененных:

(
    bookings
    .query('is_canceled == 1')
    .groupby('is_canceled')
    .agg({'is_canceled' : 'count'})
    
)    

3259+40961 # где 4 брони? Так есть у них дети или нет?!

#### Просто всего отмененных и не отмененных:

(
    bookings
    .groupby('is_canceled')
    .agg({'is_canceled' : 'count'})
    
)    

75166+44224

3259/119390 *100

40961/119390 *100

#### Новая попытка

bookings['has_kids'] = bookings.total_kids > 0

bookings.has_kids

bookings.has_kids.value_counts()

bookings.query('is_canceled == 1').groupby('has_kids').agg({'is_canceled' : 'count'})

bookings.groupby(['is_canceled', 'has_kids']).agg({'has_kids' : 'count'})

bookings.shape

40965 / (69093+40965) *100

3259 / (6073 + 3259) *100

## Как должно быть:

#### Создание новой булевой колонки на наличие детей: 

bookings['has_kids'] = bookings.total_kids > 0

### 1. Churn Rate для 1-й группы(без детей):

#### Все отмененные без детей:

cancel_no_kids = bookings.query('is_canceled == 1 and has_kids == False').shape[0]

#### Все пользователи без детей:

all_no_kids = bookings.query('has_kids == False').shape[0]

####  Отношение количества ушедших пользователей без детей к общему количеству пользователей без детей:

round(cancel_no_kids / all_no_kids * 100, 2)

### 2. Churn Rate для 2-й группы(с детьми):

#### Все отмененные с детьми:

cancel_with_kids = bookings.query('is_canceled == 1 and has_kids == True').shape[0]

#### Все отмененные с детьми:

all_with_kids = bookings.query('has_kids == True').shape[0]

####  Отношение количества ушедших пользователей с детьми к общему количеству пользователей с детьми:

round(cancel_with_kids / all_with_kids * 100, 2)

37.22 > 34.92

